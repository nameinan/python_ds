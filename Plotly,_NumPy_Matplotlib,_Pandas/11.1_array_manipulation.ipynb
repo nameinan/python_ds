{
 "cells": [
  {
   "cell_type": "code",
   "execution_count": 1,
   "metadata": {},
   "outputs": [],
   "source": [
    "import numpy as  np\n",
    "x= np.arange(6)"
   ]
  },
  {
   "cell_type": "code",
   "execution_count": 2,
   "metadata": {},
   "outputs": [
    {
     "data": {
      "text/plain": [
       "array([0, 1, 2, 3, 4, 5])"
      ]
     },
     "execution_count": 2,
     "metadata": {},
     "output_type": "execute_result"
    }
   ],
   "source": [
    "x"
   ]
  },
  {
   "cell_type": "code",
   "execution_count": 4,
   "metadata": {},
   "outputs": [],
   "source": [
    "y=x.reshape((3,2))"
   ]
  },
  {
   "cell_type": "code",
   "execution_count": 5,
   "metadata": {},
   "outputs": [
    {
     "data": {
      "text/plain": [
       "array([[0, 1],\n",
       "       [2, 3],\n",
       "       [4, 5]])"
      ]
     },
     "execution_count": 5,
     "metadata": {},
     "output_type": "execute_result"
    }
   ],
   "source": [
    "y\n"
   ]
  },
  {
   "cell_type": "code",
   "execution_count": 6,
   "metadata": {},
   "outputs": [],
   "source": [
    "x = np.array([[0,1,2],[3,4,5]], dtype = np.int16)"
   ]
  },
  {
   "cell_type": "code",
   "execution_count": 7,
   "metadata": {},
   "outputs": [
    {
     "data": {
      "text/plain": [
       "array([[0, 1, 2],\n",
       "       [3, 4, 5]], dtype=int16)"
      ]
     },
     "execution_count": 7,
     "metadata": {},
     "output_type": "execute_result"
    }
   ],
   "source": [
    "x"
   ]
  },
  {
   "cell_type": "code",
   "execution_count": 10,
   "metadata": {},
   "outputs": [],
   "source": [
    "y= np.reshape(x,6)"
   ]
  },
  {
   "cell_type": "code",
   "execution_count": 15,
   "metadata": {},
   "outputs": [
    {
     "data": {
      "text/plain": [
       "array([0, 1, 2, 3, 4, 5], dtype=int16)"
      ]
     },
     "execution_count": 15,
     "metadata": {},
     "output_type": "execute_result"
    }
   ],
   "source": [
    "y"
   ]
  },
  {
   "cell_type": "code",
   "execution_count": 18,
   "metadata": {},
   "outputs": [
    {
     "data": {
      "text/plain": [
       "array([0, 1, 2, 3, 4, 5], dtype=int16)"
      ]
     },
     "execution_count": 18,
     "metadata": {},
     "output_type": "execute_result"
    }
   ],
   "source": [
    "np.reshape(y,6)"
   ]
  },
  {
   "cell_type": "code",
   "execution_count": 20,
   "metadata": {},
   "outputs": [
    {
     "data": {
      "text/plain": [
       "array([0, 1, 2, 3, 4, 5], dtype=int16)"
      ]
     },
     "execution_count": 20,
     "metadata": {},
     "output_type": "execute_result"
    }
   ],
   "source": [
    "x.flatten()"
   ]
  },
  {
   "cell_type": "code",
   "execution_count": 22,
   "metadata": {},
   "outputs": [
    {
     "data": {
      "text/plain": [
       "array([0, 3, 1, 4, 2, 5], dtype=int16)"
      ]
     },
     "execution_count": 22,
     "metadata": {},
     "output_type": "execute_result"
    }
   ],
   "source": [
    "x.flatten('F')"
   ]
  },
  {
   "cell_type": "markdown",
   "metadata": {},
   "source": [
    "# Join array"
   ]
  },
  {
   "cell_type": "code",
   "execution_count": 27,
   "metadata": {},
   "outputs": [],
   "source": [
    "x= np.array([1,2,3],  dtype = np.uint8)\n",
    "y= np.array([4,5,6] , dtype = np.uint8)\n",
    "z = np.array([7,8,9], dtype = np.uint8)"
   ]
  },
  {
   "cell_type": "code",
   "execution_count": 30,
   "metadata": {},
   "outputs": [
    {
     "data": {
      "text/plain": [
       "array([[1, 4, 7],\n",
       "       [2, 5, 8],\n",
       "       [3, 6, 9]], dtype=uint8)"
      ]
     },
     "execution_count": 30,
     "metadata": {},
     "output_type": "execute_result"
    }
   ],
   "source": [
    "np.stack((x,y,z),axis=1)"
   ]
  },
  {
   "cell_type": "code",
   "execution_count": 31,
   "metadata": {},
   "outputs": [
    {
     "data": {
      "text/plain": [
       "array([[1, 2, 3],\n",
       "       [4, 5, 6]], dtype=uint8)"
      ]
     },
     "execution_count": 31,
     "metadata": {},
     "output_type": "execute_result"
    }
   ],
   "source": [
    "np.vstack((x,y))"
   ]
  },
  {
   "cell_type": "code",
   "execution_count": 35,
   "metadata": {},
   "outputs": [
    {
     "data": {
      "text/plain": [
       "[array([0, 1, 2]), array([3, 4, 5]), array([6, 7, 8])]"
      ]
     },
     "execution_count": 35,
     "metadata": {},
     "output_type": "execute_result"
    }
   ],
   "source": [
    "x= np.arange(9)\n",
    "np.split(x,3)"
   ]
  },
  {
   "cell_type": "code",
   "execution_count": 37,
   "metadata": {},
   "outputs": [],
   "source": [
    "x=np.random.rand(4,4,4)"
   ]
  },
  {
   "cell_type": "code",
   "execution_count": 38,
   "metadata": {},
   "outputs": [
    {
     "data": {
      "text/plain": [
       "[array([[[0.81111958, 0.9070171 , 0.13759782, 0.28068973],\n",
       "         [0.44304077, 0.0994115 , 0.1303201 , 0.57479165],\n",
       "         [0.28687635, 0.45033536, 0.59713653, 0.63695108],\n",
       "         [0.45861254, 0.11102415, 0.29525204, 0.01054384]],\n",
       " \n",
       "        [[0.35275231, 0.10547717, 0.35847652, 0.74471851],\n",
       "         [0.58269753, 0.80359343, 0.26736658, 0.11547334],\n",
       "         [0.57458797, 0.18465225, 0.77197701, 0.5877981 ],\n",
       "         [0.77281767, 0.14326668, 0.56379987, 0.96358632]]]),\n",
       " array([[[0.27263433, 0.0619599 , 0.01542436, 0.82293659],\n",
       "         [0.5553522 , 0.30709066, 0.16588386, 0.81585112],\n",
       "         [0.12731277, 0.89154943, 0.84116686, 0.12918475],\n",
       "         [0.12778194, 0.90219998, 0.39821085, 0.60601562]],\n",
       " \n",
       "        [[0.22136377, 0.84205922, 0.21695376, 0.03144281],\n",
       "         [0.08424007, 0.91753147, 0.86720428, 0.30315638],\n",
       "         [0.63741942, 0.133016  , 0.42932046, 0.03065713],\n",
       "         [0.91025324, 0.18184849, 0.82395267, 0.74793114]]])]"
      ]
     },
     "execution_count": 38,
     "metadata": {},
     "output_type": "execute_result"
    }
   ],
   "source": [
    "np.split(x,2)"
   ]
  },
  {
   "cell_type": "code",
   "execution_count": 39,
   "metadata": {},
   "outputs": [
    {
     "data": {
      "text/plain": [
       "[array([[[0.81111958, 0.9070171 , 0.13759782, 0.28068973],\n",
       "         [0.44304077, 0.0994115 , 0.1303201 , 0.57479165],\n",
       "         [0.28687635, 0.45033536, 0.59713653, 0.63695108],\n",
       "         [0.45861254, 0.11102415, 0.29525204, 0.01054384]],\n",
       " \n",
       "        [[0.35275231, 0.10547717, 0.35847652, 0.74471851],\n",
       "         [0.58269753, 0.80359343, 0.26736658, 0.11547334],\n",
       "         [0.57458797, 0.18465225, 0.77197701, 0.5877981 ],\n",
       "         [0.77281767, 0.14326668, 0.56379987, 0.96358632]]]),\n",
       " array([[[0.27263433, 0.0619599 , 0.01542436, 0.82293659],\n",
       "         [0.5553522 , 0.30709066, 0.16588386, 0.81585112],\n",
       "         [0.12731277, 0.89154943, 0.84116686, 0.12918475],\n",
       "         [0.12778194, 0.90219998, 0.39821085, 0.60601562]],\n",
       " \n",
       "        [[0.22136377, 0.84205922, 0.21695376, 0.03144281],\n",
       "         [0.08424007, 0.91753147, 0.86720428, 0.30315638],\n",
       "         [0.63741942, 0.133016  , 0.42932046, 0.03065713],\n",
       "         [0.91025324, 0.18184849, 0.82395267, 0.74793114]]])]"
      ]
     },
     "execution_count": 39,
     "metadata": {},
     "output_type": "execute_result"
    }
   ],
   "source": [
    "np.vsplit(x,2)"
   ]
  },
  {
   "cell_type": "code",
   "execution_count": 40,
   "metadata": {},
   "outputs": [
    {
     "data": {
      "text/plain": [
       "array([[ 0,  1,  2,  3],\n",
       "       [ 4,  5,  6,  7],\n",
       "       [ 8,  9, 10, 11],\n",
       "       [12, 13, 14, 15]])"
      ]
     },
     "execution_count": 40,
     "metadata": {},
     "output_type": "execute_result"
    }
   ],
   "source": [
    "x = np.arange(16).reshape(4,4)\n",
    "x"
   ]
  },
  {
   "cell_type": "code",
   "execution_count": 41,
   "metadata": {},
   "outputs": [
    {
     "data": {
      "text/plain": [
       "array([[15, 14, 13, 12],\n",
       "       [11, 10,  9,  8],\n",
       "       [ 7,  6,  5,  4],\n",
       "       [ 3,  2,  1,  0]])"
      ]
     },
     "execution_count": 41,
     "metadata": {},
     "output_type": "execute_result"
    }
   ],
   "source": [
    "np.flip(x)"
   ]
  },
  {
   "cell_type": "code",
   "execution_count": 42,
   "metadata": {},
   "outputs": [
    {
     "data": {
      "text/plain": [
       "array([[ 8,  9, 10, 11],\n",
       "       [12, 13, 14, 15],\n",
       "       [ 0,  1,  2,  3],\n",
       "       [ 4,  5,  6,  7]])"
      ]
     },
     "execution_count": 42,
     "metadata": {},
     "output_type": "execute_result"
    }
   ],
   "source": [
    "np.roll(x,8)"
   ]
  },
  {
   "cell_type": "code",
   "execution_count": 43,
   "metadata": {},
   "outputs": [
    {
     "data": {
      "text/plain": [
       "array([[ 3,  7, 11, 15],\n",
       "       [ 2,  6, 10, 14],\n",
       "       [ 1,  5,  9, 13],\n",
       "       [ 0,  4,  8, 12]])"
      ]
     },
     "execution_count": 43,
     "metadata": {},
     "output_type": "execute_result"
    }
   ],
   "source": [
    "np.rot90(x)"
   ]
  },
  {
   "cell_type": "code",
   "execution_count": null,
   "metadata": {},
   "outputs": [],
   "source": []
  }
 ],
 "metadata": {
  "kernelspec": {
   "display_name": "Python 3",
   "language": "python",
   "name": "python3"
  },
  "language_info": {
   "codemirror_mode": {
    "name": "ipython",
    "version": 3
   },
   "file_extension": ".py",
   "mimetype": "text/x-python",
   "name": "python",
   "nbconvert_exporter": "python",
   "pygments_lexer": "ipython3",
   "version": "3.7.3"
  }
 },
 "nbformat": 4,
 "nbformat_minor": 2
}
