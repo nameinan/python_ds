{
 "cells": [
  {
   "cell_type": "code",
   "execution_count": 1,
   "metadata": {},
   "outputs": [],
   "source": [
    "import plotly.graph_objs as go\n",
    "from plotly.offline import  plot\n",
    "import plotly.figure_factory as ff\n",
    "import numpy as np\n",
    "import datetime"
   ]
  },
  {
   "cell_type": "markdown",
   "metadata": {},
   "source": [
    "# Basic heatmap"
   ]
  },
  {
   "cell_type": "code",
   "execution_count": 3,
   "metadata": {},
   "outputs": [
    {
     "data": {
      "text/plain": [
       "'temp-plot.html'"
      ]
     },
     "execution_count": 3,
     "metadata": {},
     "output_type": "execute_result"
    }
   ],
   "source": [
    "trace = go.Heatmap( z = [[1,20,30],\n",
    "                         [20,1,60],\n",
    "                         [30,60,1]])\n",
    "\n",
    "data =[trace]\n",
    "plot(data)"
   ]
  },
  {
   "cell_type": "markdown",
   "metadata": {},
   "source": [
    "# Heatmap with categorical axis labels"
   ]
  },
  {
   "cell_type": "code",
   "execution_count": 8,
   "metadata": {},
   "outputs": [
    {
     "data": {
      "text/plain": [
       "'temp-plot.html'"
      ]
     },
     "execution_count": 8,
     "metadata": {},
     "output_type": "execute_result"
    }
   ],
   "source": [
    "trace = go.Heatmap( z = [[1,20,30,50,1],\n",
    "                         [20,1,60,80,30],\n",
    "                         [30,60,1,-10,20]],\n",
    "                   x = ['Monday','Tuesday','Wednesday','Thrursday','Friday'],\n",
    "                   y = ['Morning','After noon','Evening']\n",
    "                  )\n",
    "    \n",
    "    \n",
    "\n",
    "data =[trace]\n",
    "plot(data)"
   ]
  },
  {
   "cell_type": "markdown",
   "metadata": {},
   "source": [
    "# Heatmap with datetime axis"
   ]
  },
  {
   "cell_type": "code",
   "execution_count": 18,
   "metadata": {},
   "outputs": [
    {
     "data": {
      "text/plain": [
       "'temp-plot.html'"
      ]
     },
     "execution_count": 18,
     "metadata": {},
     "output_type": "execute_result"
    }
   ],
   "source": [
    "programmers = ['Alex','Nicole','Sara','Etienne','Chelsea','Jody','Marianne']\n",
    "\n",
    "base = datetime.datetime.today()\n",
    "\n",
    "date_list = [base - datetime.timedelta(days=x) for x in range(0,180)]\n",
    "\n",
    "z = []\n",
    "\n",
    "\n",
    "for prgmr in programmers:\n",
    "    new_row = []\n",
    "    for date in date_list:\n",
    "        new_row.append(np.random.poisson())\n",
    "    z.append(list(new_row))\n",
    "\n",
    "\n",
    "data = [ go.Heatmap(\n",
    "            z = z,\n",
    "            x = date_list,\n",
    "            y = programmers,\n",
    "            colorscale = 'Viridis'\n",
    "    )]\n",
    "\n",
    "layout = go.Layout(\n",
    "    title = 'Github commits per day',\n",
    "    xaxis = dict(ticks = '',nticks = 36),\n",
    "    yaxis = dict(ticks = '')\n",
    ")\n",
    "\n",
    "fig = go.Figure(data=data,layout=layout)\n",
    "plot(fig)\n"
   ]
  },
  {
   "cell_type": "code",
   "execution_count": null,
   "metadata": {},
   "outputs": [],
   "source": []
  }
 ],
 "metadata": {
  "kernelspec": {
   "display_name": "Python 3",
   "language": "python",
   "name": "python3"
  },
  "language_info": {
   "codemirror_mode": {
    "name": "ipython",
    "version": 3
   },
   "file_extension": ".py",
   "mimetype": "text/x-python",
   "name": "python",
   "nbconvert_exporter": "python",
   "pygments_lexer": "ipython3",
   "version": "3.7.3"
  }
 },
 "nbformat": 4,
 "nbformat_minor": 2
}
