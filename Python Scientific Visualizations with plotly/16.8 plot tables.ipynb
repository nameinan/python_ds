{
 "cells": [
  {
   "cell_type": "code",
   "execution_count": 1,
   "metadata": {},
   "outputs": [],
   "source": [
    "import plotly.graph_objs as go\n",
    "from plotly.offline import  plot"
   ]
  },
  {
   "cell_type": "markdown",
   "metadata": {},
   "source": [
    "# Basic tables"
   ]
  },
  {
   "cell_type": "code",
   "execution_count": 5,
   "metadata": {},
   "outputs": [
    {
     "data": {
      "text/plain": [
       "'temp-plot.html'"
      ]
     },
     "execution_count": 5,
     "metadata": {},
     "output_type": "execute_result"
    }
   ],
   "source": [
    "trace = go.Table(\n",
    "            header = dict( values=['A Scores','B Scores']),\n",
    "            cells = dict(values = [[100,90,80,90],\n",
    "                                    [95,85,75,95]])\n",
    ")\n",
    "\n",
    "data =[trace]\n",
    "plot(data)"
   ]
  },
  {
   "cell_type": "markdown",
   "metadata": {},
   "source": [
    "# Styled tables"
   ]
  },
  {
   "cell_type": "code",
   "execution_count": 18,
   "metadata": {},
   "outputs": [],
   "source": [
    "trace = go.Table(\n",
    "            header = dict( values=['A Scores','B Scores'],\n",
    "                            line = dict(color='#7D7F80'),\n",
    "                            fill = dict(color = '#a1c3d1'),\n",
    "                            align=['left']*5),\n",
    "            \n",
    "            cells = dict( values = [[100,90,80,90],[95,85,75,95]],\n",
    "                          line=dict(color='#7D7F80'),\n",
    "                          fill = dict(color='#EDFAFF'),\n",
    "                          align = ['left']*5))\n"
   ]
  },
  {
   "cell_type": "code",
   "execution_count": 19,
   "metadata": {},
   "outputs": [
    {
     "data": {
      "text/plain": [
       "'temp-plot.html'"
      ]
     },
     "execution_count": 19,
     "metadata": {},
     "output_type": "execute_result"
    }
   ],
   "source": [
    "\n",
    "layout = dict(width=500,heigth=300)\n",
    "data =[trace]\n",
    "fig = dict(data=data,layout=layout)\n",
    "plot(data)"
   ]
  },
  {
   "cell_type": "markdown",
   "metadata": {},
   "source": [
    "# Cell colors based on variables"
   ]
  },
  {
   "cell_type": "code",
   "execution_count": 21,
   "metadata": {},
   "outputs": [
    {
     "name": "stderr",
     "output_type": "stream",
     "text": [
      "'pip3' is not recognized as an internal or external command,\n",
      "operable program or batch file.\n"
     ]
    }
   ],
   "source": [
    "!pip3 install colorlover"
   ]
  },
  {
   "cell_type": "code",
   "execution_count": 23,
   "metadata": {},
   "outputs": [],
   "source": [
    "import numpy as np\n",
    "import colorlover as cl"
   ]
  },
  {
   "cell_type": "code",
   "execution_count": 25,
   "metadata": {},
   "outputs": [],
   "source": [
    "colors = cl.scales['9']['seq']['Reds']\n",
    "\n",
    "a = np.random.randint(low=0,high=9,size=10)\n",
    "b = np.random.randint(low=0,high=9,size=10)\n",
    "c = np.random.randint(low=0,high=9,size=10)"
   ]
  },
  {
   "cell_type": "code",
   "execution_count": 29,
   "metadata": {},
   "outputs": [
    {
     "data": {
      "text/plain": [
       "'temp-plot.html'"
      ]
     },
     "execution_count": 29,
     "metadata": {},
     "output_type": "execute_result"
    }
   ],
   "source": [
    "trace = go.Table(\n",
    "            header = dict( values=['<b>Column A</b>','<b> Column B</b>','<b> Column C</b>'],\n",
    "                            line = dict(color='white'),\n",
    "                            fill = dict(color = 'white'),\n",
    "                            align=['center'],\n",
    "                            font = dict(color='black',size=12)),\n",
    "            \n",
    "            cells = dict( values = [a,b,c],\n",
    "                          line=dict(color=[np.array(colors)[a],np.array(colors)[b],np.array(colors)[c]]),\n",
    "                          fill = dict(color=[np.array(colors)[a],np.array(colors)[b],np.array(colors)[c]]),\n",
    "                          align = ['center'],\n",
    "                           font = dict(color='white',size=11)))\n",
    "\n",
    "\n",
    "data = [trace]\n",
    "plot(data)"
   ]
  },
  {
   "cell_type": "code",
   "execution_count": null,
   "metadata": {},
   "outputs": [],
   "source": []
  }
 ],
 "metadata": {
  "kernelspec": {
   "display_name": "Python 3",
   "language": "python",
   "name": "python3"
  },
  "language_info": {
   "codemirror_mode": {
    "name": "ipython",
    "version": 3
   },
   "file_extension": ".py",
   "mimetype": "text/x-python",
   "name": "python",
   "nbconvert_exporter": "python",
   "pygments_lexer": "ipython3",
   "version": "3.7.3"
  }
 },
 "nbformat": 4,
 "nbformat_minor": 2
}
