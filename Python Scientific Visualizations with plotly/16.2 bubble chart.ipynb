{
 "cells": [
  {
   "cell_type": "code",
   "execution_count": 1,
   "metadata": {},
   "outputs": [],
   "source": [
    "import plotly.graph_objs as go\n",
    "from plotly.offline import  plot"
   ]
  },
  {
   "cell_type": "markdown",
   "metadata": {},
   "source": [
    "# Simple bullble charts"
   ]
  },
  {
   "cell_type": "code",
   "execution_count": 4,
   "metadata": {},
   "outputs": [
    {
     "data": {
      "text/plain": [
       "'bubblechart.html'"
      ]
     },
     "execution_count": 4,
     "metadata": {},
     "output_type": "execute_result"
    }
   ],
   "source": [
    "trace0 = go.Scatter(\n",
    "    x = [1,2,3,4],\n",
    "    y = [10,20,30,40],\n",
    "    mode = 'markers',\n",
    "    marker = dict(\n",
    "        size = [20,30,40,50] )\n",
    ")\n",
    "\n",
    "data  = [trace0]\n",
    "plot(data , filename = 'bubblechart.html')"
   ]
  },
  {
   "cell_type": "code",
   "execution_count": 8,
   "metadata": {},
   "outputs": [
    {
     "data": {
      "text/plain": [
       "'bubblechart-size.html'"
      ]
     },
     "execution_count": 8,
     "metadata": {},
     "output_type": "execute_result"
    }
   ],
   "source": [
    "trace0 = go.Scatter(\n",
    "    x = [1,2,3,4],\n",
    "    y = [10,20,30,40],\n",
    "    mode = 'markers',\n",
    "    marker = dict(\n",
    "        color = ['rgb(93,164,214)','rgb(255,144,14)',\n",
    "                  'rgb(44,160,101)','rgb(255,65,54)'],\n",
    "        opacity = [1,0.8,0.6,0.4],\n",
    "        size = [20,30,40,50]\n",
    "    )\n",
    ")\n",
    "\n",
    "data = [trace0]\n",
    "plot(data,filename ='bubblechart-size.html')\n"
   ]
  },
  {
   "cell_type": "code",
   "execution_count": null,
   "metadata": {},
   "outputs": [],
   "source": []
  }
 ],
 "metadata": {
  "kernelspec": {
   "display_name": "Python 3",
   "language": "python",
   "name": "python3"
  },
  "language_info": {
   "codemirror_mode": {
    "name": "ipython",
    "version": 3
   },
   "file_extension": ".py",
   "mimetype": "text/x-python",
   "name": "python",
   "nbconvert_exporter": "python",
   "pygments_lexer": "ipython3",
   "version": "3.7.3"
  }
 },
 "nbformat": 4,
 "nbformat_minor": 2
}
