{
 "cells": [
  {
   "cell_type": "code",
   "execution_count": 1,
   "metadata": {},
   "outputs": [],
   "source": [
    "import plotly.graph_objs as go\n",
    "from plotly.offline import  plot\n",
    "import numpy as np"
   ]
  },
  {
   "cell_type": "markdown",
   "metadata": {},
   "source": [
    "# Basic area plot"
   ]
  },
  {
   "cell_type": "code",
   "execution_count": 5,
   "metadata": {},
   "outputs": [
    {
     "data": {
      "text/plain": [
       "'temp-plot.html'"
      ]
     },
     "execution_count": 5,
     "metadata": {},
     "output_type": "execute_result"
    }
   ],
   "source": [
    "trace1 = go.Scatter(\n",
    "    x = [1,2,3,4],\n",
    "    y = [0,2,3,5],\n",
    "    fill ='tozeroy'\n",
    ")\n",
    "\n",
    "\n",
    "trace2 = go.Scatter(\n",
    "    x = [1,2,3,4],\n",
    "    y = [3,5,1,7],\n",
    "    fill ='tonexty'\n",
    ")\n",
    "\n",
    "data = [trace1,trace2]\n",
    "plot(data)"
   ]
  },
  {
   "cell_type": "markdown",
   "metadata": {},
   "source": [
    "# Area chart with boundary lines"
   ]
  },
  {
   "cell_type": "code",
   "execution_count": 4,
   "metadata": {},
   "outputs": [
    {
     "data": {
      "text/plain": [
       "'temp-plot.html'"
      ]
     },
     "execution_count": 4,
     "metadata": {},
     "output_type": "execute_result"
    }
   ],
   "source": [
    "trace1 = go.Scatter(\n",
    "    x = [1,2,3,4],\n",
    "    y = [0,2,3,5],\n",
    "    fill ='tozeroy',\n",
    "    mode ='none'\n",
    ")\n",
    "\n",
    "\n",
    "trace2 = go.Scatter(\n",
    "    x = [1,2,3,4],\n",
    "    y = [3,5,1,7],\n",
    "    fill ='tonexty',\n",
    "    mode ='none'\n",
    ")\n",
    "\n",
    "data = [trace1,trace2]\n",
    "plot(data)"
   ]
  },
  {
   "cell_type": "markdown",
   "metadata": {},
   "source": [
    "# Stacked area chart"
   ]
  },
  {
   "cell_type": "code",
   "execution_count": 10,
   "metadata": {},
   "outputs": [
    {
     "data": {
      "text/plain": [
       "'temp-plot.html'"
      ]
     },
     "execution_count": 10,
     "metadata": {},
     "output_type": "execute_result"
    }
   ],
   "source": [
    "x = ['Winter','Spring','Summer','Fall']\n",
    "\n",
    "trace0 = go.Scatter(\n",
    "    x = x,\n",
    "    y = [40,60,40,10],\n",
    "    hoverinfo = 'x+y',\n",
    "    mode = 'lines',\n",
    "    line = dict(width = 0.5, color ='rgb(131,90,241)'),\n",
    "    stackgroup = 'one'\n",
    ")\n",
    "\n",
    "trace1 = go.Scatter(\n",
    "    x = x,\n",
    "    y = [20,10,10,60],\n",
    "    hoverinfo = 'x+y',\n",
    "    mode = 'lines',\n",
    "    line = dict(width = 0.5, color ='rgb(111,231,219)'),\n",
    "    stackgroup = 'one'\n",
    ")\n",
    "\n",
    "trace2 = go.Scatter(\n",
    "    x = x,\n",
    "    y = [40,30,50,30],\n",
    "    hoverinfo = 'x+y',\n",
    "    mode = 'lines',\n",
    "    line = dict(width = 0.5, color ='rgb(184,247,212)'),\n",
    "    stackgroup = 'one'\n",
    ")\n",
    "\n",
    "\n",
    "\n",
    "data = [trace0,trace1,trace2]\n",
    "\n",
    "\n",
    "plot(data,validate=False)"
   ]
  },
  {
   "cell_type": "markdown",
   "metadata": {},
   "source": [
    "# Styled Pie chart"
   ]
  },
  {
   "cell_type": "code",
   "execution_count": null,
   "metadata": {},
   "outputs": [],
   "source": [
    "x = ['Winter','Spring','Summer','Fall']\n",
    "\n",
    "trace0 = go.Scatter(\n",
    "    x = x,\n",
    "    y = [40,60,40,10],\n",
    "    hoverinfo = 'x+y',\n",
    "    mode = 'lines',\n",
    "    line = dict(width = 0.5, color ='rgb(131,90,241)'),\n",
    "    stackgroup = 'one'\n",
    ")\n",
    "\n",
    "trace1 = go.Scatter(\n",
    "    x = x,\n",
    "    y = [20,10,10,60],\n",
    "    hoverinfo = 'x+y',\n",
    "    mode = 'lines',\n",
    "    line = dict(width = 0.5, color ='rgb(111,231,219)'),\n",
    "    stackgroup = 'one'\n",
    ")\n",
    "\n",
    "trace2 = go.Scatter(\n",
    "    x = x,\n",
    "    y = [40,30,50,30],\n",
    "    hoverinfo = 'x+y',\n",
    "    mode = 'lines',\n",
    "    line = dict(width = 0.5, color ='rgb(184,247,212)'),\n",
    "    stackgroup = 'one'\n",
    ")\n",
    "\n",
    "\n",
    "\n",
    "data = [trace0,trace1,trace2]\n",
    "\n",
    "\n",
    "plot(data,validate=False)"
   ]
  }
 ],
 "metadata": {
  "kernelspec": {
   "display_name": "Python 3",
   "language": "python",
   "name": "python3"
  },
  "language_info": {
   "codemirror_mode": {
    "name": "ipython",
    "version": 3
   },
   "file_extension": ".py",
   "mimetype": "text/x-python",
   "name": "python",
   "nbconvert_exporter": "python",
   "pygments_lexer": "ipython3",
   "version": "3.7.3"
  }
 },
 "nbformat": 4,
 "nbformat_minor": 2
}
