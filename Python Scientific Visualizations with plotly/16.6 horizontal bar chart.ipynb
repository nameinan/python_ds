{
 "cells": [
  {
   "cell_type": "code",
   "execution_count": 1,
   "metadata": {},
   "outputs": [],
   "source": [
    "import plotly.graph_objs as go\n",
    "from plotly.offline import  plot"
   ]
  },
  {
   "cell_type": "code",
   "execution_count": 2,
   "metadata": {},
   "outputs": [
    {
     "name": "stderr",
     "output_type": "stream",
     "text": [
      "C:\\ProgramData\\Anaconda3\\lib\\site-packages\\plotly\\offline\\offline.py:526: UserWarning:\n",
      "\n",
      "Your filename `horizontal-bar` didn't end with .html. Adding .html to the end of your file.\n",
      "\n"
     ]
    },
    {
     "data": {
      "text/plain": [
       "'horizontal-bar.html'"
      ]
     },
     "execution_count": 2,
     "metadata": {},
     "output_type": "execute_result"
    }
   ],
   "source": [
    "data = [go.Bar(\n",
    "        x = [20,14,23],\n",
    "        y = ['giraffes','orangutans','monkeys'],\n",
    "        orientation = 'h'\n",
    ")]\n",
    "\n",
    "plot(data,filename='horizontal-bar')"
   ]
  },
  {
   "cell_type": "markdown",
   "metadata": {},
   "source": [
    "# Coloured horizontal bar chart"
   ]
  },
  {
   "cell_type": "code",
   "execution_count": 25,
   "metadata": {},
   "outputs": [
    {
     "data": {
      "text/plain": [
       "'marker-h-bar.html'"
      ]
     },
     "execution_count": 25,
     "metadata": {},
     "output_type": "execute_result"
    }
   ],
   "source": [
    "trace1 = go.Bar(\n",
    "        x = [20,14,23],\n",
    "        y = ['giraffes','orangutans','monkeys'],\n",
    "        name = 'SF Zoo',\n",
    "        orientation = 'h',\n",
    "        marker = dict(\n",
    "            color = 'rgba(246,78,139,0.6)',\n",
    "            line = dict(\n",
    "                color = 'rgba(246,78,139,1.0)',\n",
    "                width = 3\n",
    "            )\n",
    "        )\n",
    ")\n",
    "\n",
    "trace2 = go.Bar(\n",
    "        x = [12,18,29],\n",
    "        y = ['giraffes','orangutans','monkeys'],\n",
    "        name = 'LA Zoo',\n",
    "        orientation = 'h',\n",
    "        marker = dict(\n",
    "            color = 'rgba(58,71,80,0.6)',\n",
    "            line = dict(\n",
    "                color = 'rgba(58,71,80,1.0)',\n",
    "                width = 3\n",
    "            )\n",
    "        )\n",
    ")\n",
    "\n",
    "\n",
    "data = [trace1,trace2]\n",
    "\n",
    "layout = go.Layout( barmode='stack')\n",
    "\n",
    "fig = go.Figure(data=data,layout=layout)\n",
    "\n",
    "plot(fig,filename='marker-h-bar.html')"
   ]
  },
  {
   "cell_type": "code",
   "execution_count": 26,
   "metadata": {},
   "outputs": [
    {
     "data": {
      "text/plain": [
       "'marker-h-bar.html'"
      ]
     },
     "execution_count": 26,
     "metadata": {},
     "output_type": "execute_result"
    }
   ],
   "source": [
    "trace1 = go.Bar(\n",
    "        x = [20,14,23],\n",
    "        y = ['giraffes','orangutans','monkeys'],\n",
    "        name = 'SF Zoo',\n",
    "        orientation = 'h',\n",
    "        marker = dict(\n",
    "            color = 'rgba(246,78,139,0.6)',\n",
    "            line = dict(\n",
    "                color = 'rgba(246,78,139,1.0)',\n",
    "                width = 3\n",
    "            )\n",
    "        )\n",
    ")\n",
    "\n",
    "trace2 = go.Bar(\n",
    "        x = [12,18,29],\n",
    "        y = ['giraffes','orangutans','monkeys'],\n",
    "        name = 'LA Zoo',\n",
    "        orientation = 'h',\n",
    "        marker = dict(\n",
    "            color = 'rgba(58,71,80,0.6)',\n",
    "            line = dict(\n",
    "                color = 'rgba(58,71,80,1.0)',\n",
    "                width = 3\n",
    "            )\n",
    "        )\n",
    ")\n",
    "\n",
    "\n",
    "data = [trace1,trace2]\n",
    "\n",
    "layout = go.Layout( barmode='group')\n",
    "\n",
    "fig = go.Figure(data=data,layout=layout)\n",
    "\n",
    "plot(fig,filename='marker-h-bar.html')"
   ]
  },
  {
   "cell_type": "code",
   "execution_count": null,
   "metadata": {},
   "outputs": [],
   "source": []
  }
 ],
 "metadata": {
  "kernelspec": {
   "display_name": "Python 3",
   "language": "python",
   "name": "python3"
  },
  "language_info": {
   "codemirror_mode": {
    "name": "ipython",
    "version": 3
   },
   "file_extension": ".py",
   "mimetype": "text/x-python",
   "name": "python",
   "nbconvert_exporter": "python",
   "pygments_lexer": "ipython3",
   "version": "3.7.3"
  }
 },
 "nbformat": 4,
 "nbformat_minor": 2
}
