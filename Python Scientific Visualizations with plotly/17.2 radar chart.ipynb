{
 "cells": [
  {
   "cell_type": "code",
   "execution_count": 1,
   "metadata": {},
   "outputs": [],
   "source": [
    "import plotly.graph_objs as go\n",
    "from plotly.offline import  plot\n",
    "import numpy as np"
   ]
  },
  {
   "cell_type": "markdown",
   "metadata": {},
   "source": [
    "# Basic radar chart"
   ]
  },
  {
   "cell_type": "code",
   "execution_count": 6,
   "metadata": {},
   "outputs": [
    {
     "data": {
      "text/plain": [
       "'temp-plot.html'"
      ]
     },
     "execution_count": 6,
     "metadata": {},
     "output_type": "execute_result"
    }
   ],
   "source": [
    "trace = go.Scatterpolar(\n",
    "    r=[39,28,8,7,28,39],\n",
    "    theta = ['A','B','C','D','E','A'],\n",
    "    fill='toself'\n",
    ")\n",
    "\n",
    "data=[trace]\n",
    "\n",
    "layout = go.Layout(\n",
    "    polar=dict(\n",
    "             radialaxis=dict(\n",
    "             visible=True,\n",
    "            range=[0,50]\n",
    "          )),\n",
    "    showlegend=False\n",
    ")\n",
    "\n",
    "\n",
    "fig =go.Figure(data=data,layout=layout)\n",
    "plot(fig)"
   ]
  },
  {
   "cell_type": "markdown",
   "metadata": {},
   "source": [
    "# Multiple trace radar chart"
   ]
  },
  {
   "cell_type": "code",
   "execution_count": 7,
   "metadata": {},
   "outputs": [
    {
     "data": {
      "text/plain": [
       "'temp-plot.html'"
      ]
     },
     "execution_count": 7,
     "metadata": {},
     "output_type": "execute_result"
    }
   ],
   "source": [
    "trace1 = go.Scatterpolar(\n",
    "    r=[39,28,8,7,28,39],\n",
    "    theta = ['A','B','C','D','E','A'],\n",
    "    fill='toself',\n",
    "    name='Group A'\n",
    ")\n",
    "\n",
    "trace2 = go.Scatterpolar(\n",
    "    r=[1.5,10,39,31,15,1.5],\n",
    "    theta = ['A','B','C','D','E','A'],\n",
    "    fill='toself',\n",
    "    name='Group B'\n",
    ")\n",
    "\n",
    "data=[trace1,trace2]\n",
    "\n",
    "layout = go.Layout(\n",
    "    polar=dict(\n",
    "             radialaxis=dict(\n",
    "             visible=True,\n",
    "            range=[0,50]\n",
    "          )),\n",
    "    showlegend=True\n",
    ")\n",
    "\n",
    "\n",
    "fig =go.Figure(data=data,layout=layout)\n",
    "plot(fig)"
   ]
  },
  {
   "cell_type": "code",
   "execution_count": null,
   "metadata": {},
   "outputs": [],
   "source": []
  }
 ],
 "metadata": {
  "kernelspec": {
   "display_name": "Python 3",
   "language": "python",
   "name": "python3"
  },
  "language_info": {
   "codemirror_mode": {
    "name": "ipython",
    "version": 3
   },
   "file_extension": ".py",
   "mimetype": "text/x-python",
   "name": "python",
   "nbconvert_exporter": "python",
   "pygments_lexer": "ipython3",
   "version": "3.7.3"
  }
 },
 "nbformat": 4,
 "nbformat_minor": 2
}
