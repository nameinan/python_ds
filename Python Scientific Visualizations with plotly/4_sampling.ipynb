{
 "cells": [
  {
   "cell_type": "code",
   "execution_count": 1,
   "metadata": {},
   "outputs": [],
   "source": [
    "import numpy as np"
   ]
  },
  {
   "cell_type": "code",
   "execution_count": 2,
   "metadata": {},
   "outputs": [
    {
     "data": {
      "text/plain": [
       "array([8, 7, 5, 3, 5, 3, 4, 7, 8, 0])"
      ]
     },
     "execution_count": 2,
     "metadata": {},
     "output_type": "execute_result"
    }
   ],
   "source": [
    "x= np.random.randint(low=0,high=9,size=10)\n",
    "x"
   ]
  },
  {
   "cell_type": "code",
   "execution_count": 3,
   "metadata": {},
   "outputs": [
    {
     "data": {
      "text/plain": [
       "array([[[0.19761808, 0.77847575, 0.42277602],\n",
       "        [0.30265803, 0.80017271, 0.53857628],\n",
       "        [0.4941766 , 0.56494049, 0.13780325]],\n",
       "\n",
       "       [[0.57898065, 0.11368364, 0.23908316],\n",
       "        [0.0809535 , 0.33751408, 0.28314598],\n",
       "        [0.49138737, 0.43557994, 0.1939549 ]],\n",
       "\n",
       "       [[0.93577164, 0.36354262, 0.49071129],\n",
       "        [0.35032849, 0.58078821, 0.46983153],\n",
       "        [0.41406537, 0.76600851, 0.60064005]]])"
      ]
     },
     "execution_count": 3,
     "metadata": {},
     "output_type": "execute_result"
    }
   ],
   "source": [
    "x=np.random.rand(3,3,3)\n",
    "x"
   ]
  },
  {
   "cell_type": "code",
   "execution_count": null,
   "metadata": {},
   "outputs": [],
   "source": []
  }
 ],
 "metadata": {
  "kernelspec": {
   "display_name": "Python 3",
   "language": "python",
   "name": "python3"
  },
  "language_info": {
   "codemirror_mode": {
    "name": "ipython",
    "version": 3
   },
   "file_extension": ".py",
   "mimetype": "text/x-python",
   "name": "python",
   "nbconvert_exporter": "python",
   "pygments_lexer": "ipython3",
   "version": "3.7.1"
  }
 },
 "nbformat": 4,
 "nbformat_minor": 2
}
