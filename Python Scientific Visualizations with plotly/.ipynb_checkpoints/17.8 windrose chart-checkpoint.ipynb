{
 "cells": [
  {
   "cell_type": "code",
   "execution_count": 9,
   "metadata": {},
   "outputs": [],
   "source": [
    "import plotly.graph_objs as go\n",
    "from plotly.offline import  plot\n"
   ]
  },
  {
   "cell_type": "code",
   "execution_count": 12,
   "metadata": {},
   "outputs": [
    {
     "data": {
      "text/plain": [
       "'temp-plot.html'"
      ]
     },
     "execution_count": 12,
     "metadata": {},
     "output_type": "execute_result"
    }
   ],
   "source": [
    "fig = go.Figure(layout = dict(\n",
    "    title='Wind Speed Distribution in Laurel, NE',\n",
    "    font_size=16,\n",
    "    legend_font_size=16,\n",
    "    polar_radialaxis_ticksuffix='%',\n",
    "    polar_angularaxis_rotation=90\n",
    "\n",
    "))\n",
    "\n",
    "fig.add_trace(go.Barpolar(\n",
    "    r=[77.5, 72.5, 70.0, 45.0, 22.5, 42.5, 40.0, 62.5],\n",
    "    name='11-14 m/s',\n",
    "    marker_color='rgb(106,81,163)'\n",
    "))\n",
    "fig.add_trace(go.Barpolar(\n",
    "    r=[57.5, 50.0, 45.0, 35.0, 20.0, 22.5, 37.5, 55.0],\n",
    "    name='8-11 m/s',\n",
    "    marker_color='rgb(158,154,200)'\n",
    "))\n",
    "fig.add_trace(go.Barpolar(\n",
    "    r=[40.0, 30.0, 30.0, 35.0, 7.5, 7.5, 32.5, 40.0],\n",
    "    name='5-8 m/s',\n",
    "    marker_color='rgb(203,201,226)'\n",
    "))\n",
    "fig.add_trace(go.Barpolar(\n",
    "    r=[20.0, 7.5, 15.0, 22.5, 2.5, 2.5, 12.5, 22.5],\n",
    "    name='< 5 m/s',\n",
    "    marker_color='rgb(242,240,247)'\n",
    "))\n",
    "\n",
    "fig.update_traces(text=['North', 'N-E', 'East', 'S-E', 'South', 'S-W', 'West', 'N-W'])\n",
    "\n",
    "plot(fig)\n"
   ]
  },
  {
   "cell_type": "code",
   "execution_count": null,
   "metadata": {},
   "outputs": [],
   "source": []
  }
 ],
 "metadata": {
  "kernelspec": {
   "display_name": "Python 3",
   "language": "python",
   "name": "python3"
  },
  "language_info": {
   "codemirror_mode": {
    "name": "ipython",
    "version": 3
   },
   "file_extension": ".py",
   "mimetype": "text/x-python",
   "name": "python",
   "nbconvert_exporter": "python",
   "pygments_lexer": "ipython3",
   "version": "3.7.3"
  }
 },
 "nbformat": 4,
 "nbformat_minor": 2
}
