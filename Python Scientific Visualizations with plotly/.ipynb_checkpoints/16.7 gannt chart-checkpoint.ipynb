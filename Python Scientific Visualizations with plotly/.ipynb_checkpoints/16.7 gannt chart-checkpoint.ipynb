{
 "cells": [
  {
   "cell_type": "code",
   "execution_count": 3,
   "metadata": {},
   "outputs": [],
   "source": [
    "import plotly.graph_objs as go\n",
    "from plotly.offline import  plot\n",
    "import plotly.figure_factory as ff"
   ]
  },
  {
   "cell_type": "code",
   "execution_count": 10,
   "metadata": {},
   "outputs": [
    {
     "data": {
      "text/plain": [
       "'temp-plot.html'"
      ]
     },
     "execution_count": 10,
     "metadata": {},
     "output_type": "execute_result"
    }
   ],
   "source": [
    "df =[dict( Task = \"Job A\", Start='2009-01-01',Finish='2009-02-28'),\n",
    "     dict( Task = \"Job B\", Start='2009-03-05',Finish='2009-04-15'),\n",
    "     dict( Task = \"Job C\", Start='2009-02-20',Finish='2009-05-30'),\n",
    "     \n",
    "    ]\n",
    "\n",
    "fig = ff.create_gantt(df)\n",
    "plot(fig)"
   ]
  },
  {
   "cell_type": "code",
   "execution_count": 9,
   "metadata": {},
   "outputs": [
    {
     "data": {
      "text/plain": [
       "'temp-plot.html'"
      ]
     },
     "execution_count": 9,
     "metadata": {},
     "output_type": "execute_result"
    }
   ],
   "source": [
    "df =[dict( Task = \"Job A\", Start='2009-01-01',Finish='2009-02-28',Complete=10),\n",
    "     dict( Task = \"Job B\", Start='2009-03-05',Finish='2009-04-15',Complete=60),\n",
    "     dict( Task = \"Job C\", Start='2009-02-20',Finish='2009-05-30',Complete=95),\n",
    "     \n",
    "    ]\n",
    "\n",
    "fig = ff.create_gantt(df,\n",
    "                      colors='Viridis',\n",
    "                      index_col='Complete',\n",
    "                     show_colorbar=True)\n",
    "plot(fig)"
   ]
  },
  {
   "cell_type": "code",
   "execution_count": null,
   "metadata": {},
   "outputs": [],
   "source": []
  }
 ],
 "metadata": {
  "kernelspec": {
   "display_name": "Python 3",
   "language": "python",
   "name": "python3"
  },
  "language_info": {
   "codemirror_mode": {
    "name": "ipython",
    "version": 3
   },
   "file_extension": ".py",
   "mimetype": "text/x-python",
   "name": "python",
   "nbconvert_exporter": "python",
   "pygments_lexer": "ipython3",
   "version": "3.7.3"
  }
 },
 "nbformat": 4,
 "nbformat_minor": 2
}
