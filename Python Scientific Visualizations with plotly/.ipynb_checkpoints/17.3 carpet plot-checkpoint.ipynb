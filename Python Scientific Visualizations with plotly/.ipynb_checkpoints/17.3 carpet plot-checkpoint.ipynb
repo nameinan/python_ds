{
 "cells": [
  {
   "cell_type": "code",
   "execution_count": 1,
   "metadata": {},
   "outputs": [],
   "source": [
    "import plotly.graph_objs as go\n",
    "from plotly.offline import  plot"
   ]
  },
  {
   "cell_type": "markdown",
   "metadata": {},
   "source": [
    "# Basic carpet plot"
   ]
  },
  {
   "cell_type": "code",
   "execution_count": 6,
   "metadata": {},
   "outputs": [
    {
     "data": {
      "text/plain": [
       "'temp-plot.html'"
      ]
     },
     "execution_count": 6,
     "metadata": {},
     "output_type": "execute_result"
    }
   ],
   "source": [
    "trace1 = go.Carpet(\n",
    "    a=[4,4,4, 4.5,4.5,4.5,  5,5,5,6,6,6],\n",
    "    b=[1,2,3, 1,2,3, 1,2,3, 1,2,3],\n",
    "    y=[2,3.5,4,  3, 4.5,5,  5.5,6.5,7.5,  8,8.5,10],\n",
    "    \n",
    "    aaxis = dict(\n",
    "        tickprefix = 'a = ',\n",
    "        ticksuffix = 'm',\n",
    "        smoothing=1,\n",
    "        minorgridcount=9\n",
    "    ),\n",
    "    baxis = dict(\n",
    "        tickprefix = 'b = ',\n",
    "        ticksuffix = 'Pa',\n",
    "        smoothing=1,\n",
    "        minorgridcount = 9\n",
    "    )\n",
    ")\n",
    "\n",
    "\n",
    "data = [trace1]\n",
    "fig = go.Figure(data=data)\n",
    "plot(fig)"
   ]
  },
  {
   "cell_type": "code",
   "execution_count": null,
   "metadata": {},
   "outputs": [],
   "source": []
  }
 ],
 "metadata": {
  "kernelspec": {
   "display_name": "Python 3",
   "language": "python",
   "name": "python3"
  },
  "language_info": {
   "codemirror_mode": {
    "name": "ipython",
    "version": 3
   },
   "file_extension": ".py",
   "mimetype": "text/x-python",
   "name": "python",
   "nbconvert_exporter": "python",
   "pygments_lexer": "ipython3",
   "version": "3.7.3"
  }
 },
 "nbformat": 4,
 "nbformat_minor": 2
}
