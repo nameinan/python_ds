{
 "cells": [
  {
   "cell_type": "code",
   "execution_count": 1,
   "metadata": {},
   "outputs": [],
   "source": [
    "import plotly.graph_objs as go\n",
    "from plotly.offline import  plot\n",
    "import numpy as np"
   ]
  },
  {
   "cell_type": "markdown",
   "metadata": {},
   "source": [
    "# Simple line plot"
   ]
  },
  {
   "cell_type": "code",
   "execution_count": 3,
   "metadata": {},
   "outputs": [],
   "source": [
    "N=500;\n",
    "random_x = np.linspace(0,1,N)\n",
    "random_y = np.random.randn(N)"
   ]
  },
  {
   "cell_type": "code",
   "execution_count": 4,
   "metadata": {},
   "outputs": [
    {
     "data": {
      "text/plain": [
       "'line.html'"
      ]
     },
     "execution_count": 4,
     "metadata": {},
     "output_type": "execute_result"
    }
   ],
   "source": [
    "trace = go.Scatter(\n",
    "     x = random_x,\n",
    "     y = random_y\n",
    ")\n",
    "\n",
    "data = [trace]\n",
    "plot(data,filename = 'line.html')"
   ]
  },
  {
   "cell_type": "markdown",
   "metadata": {},
   "source": [
    "# Line plot modes"
   ]
  },
  {
   "cell_type": "code",
   "execution_count": 15,
   "metadata": {},
   "outputs": [
    {
     "data": {
      "text/plain": [
       "'line-mode.html'"
      ]
     },
     "execution_count": 15,
     "metadata": {},
     "output_type": "execute_result"
    }
   ],
   "source": [
    "N = 100\n",
    "random_x = np.linspace(0, 1 , N)\n",
    "random_y0 = np.random.randn(N)+5\n",
    "random_y1 = np.random.randn(N)\n",
    "random_y2 = np.random.randn(N)-5\n",
    "\n",
    "\n",
    "\n",
    "trace0= go.Scatter(\n",
    "    x = random_x,\n",
    "    y = random_y0,\n",
    "    mode = 'lines',\n",
    "    name = 'lines'\n",
    ")\n",
    "\n",
    "\n",
    "trace1= go.Scatter(\n",
    "    x = random_x,\n",
    "    y = random_y1,\n",
    "    mode = 'lines+markers',\n",
    "    name = 'lines+markers'\n",
    ")\n",
    "\n",
    "\n",
    "trace2= go.Scatter(\n",
    "    x = random_x,\n",
    "    y = random_y2,\n",
    "    mode = 'lines',\n",
    "    name = 'lines'\n",
    ")\n",
    "\n",
    "\n",
    "data = [trace0,trace1,trace2]\n",
    "plot(data,filename='line-mode.html')\n",
    "\n"
   ]
  },
  {
   "cell_type": "markdown",
   "metadata": {},
   "source": [
    "# Connect data gaps"
   ]
  },
  {
   "cell_type": "code",
   "execution_count": 18,
   "metadata": {},
   "outputs": [
    {
     "data": {
      "text/plain": [
       "'line-gap.html'"
      ]
     },
     "execution_count": 18,
     "metadata": {},
     "output_type": "execute_result"
    }
   ],
   "source": [
    "trace1 = go.Scatter(\n",
    "    x = [1,2,3,4,5,6,7,8,9,10,11,12,13,14,15],\n",
    "    y = [10,20,None,15,10,5,15,None,20,10,10,15,25,20,10],\n",
    "    name ='<b>No</b> Gaps', #style name/legend entry with html tags\n",
    "    connectgaps = True\n",
    "\n",
    ")\n",
    "\n",
    "\n",
    "trace2 = go.Scatter(\n",
    "    x = [1,2,3,4,5,6,7,8,9,10,11,12,13,14,15],\n",
    "    y = [5,15,None,10,5,0,10,None,15,5,5,10,20,15,5],\n",
    "    name ='Gaps' #style name/legend entry with html tags\n",
    " )\n",
    "\n",
    "\n",
    "data = [trace1,trace2]\n",
    "plot(data,filename='line-gap.html')\n",
    "\n"
   ]
  },
  {
   "cell_type": "code",
   "execution_count": null,
   "metadata": {},
   "outputs": [],
   "source": []
  }
 ],
 "metadata": {
  "kernelspec": {
   "display_name": "Python 3",
   "language": "python",
   "name": "python3"
  },
  "language_info": {
   "codemirror_mode": {
    "name": "ipython",
    "version": 3
   },
   "file_extension": ".py",
   "mimetype": "text/x-python",
   "name": "python",
   "nbconvert_exporter": "python",
   "pygments_lexer": "ipython3",
   "version": "3.7.3"
  }
 },
 "nbformat": 4,
 "nbformat_minor": 2
}
